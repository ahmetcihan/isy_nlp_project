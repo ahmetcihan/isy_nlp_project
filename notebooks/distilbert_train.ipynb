{
  "nbformat": 4,
  "nbformat_minor": 0,
  "metadata": {
    "colab": {
      "provenance": [],
      "gpuType": "T4"
    },
    "kernelspec": {
      "name": "python3",
      "display_name": "Python 3"
    },
    "language_info": {
      "name": "python"
    },
    "accelerator": "GPU",
    "widgets": {
      "application/vnd.jupyter.widget-state+json": {
        "8ca897002d9e4c8d88c69db76acbba9c": {
          "model_module": "@jupyter-widgets/controls",
          "model_name": "HBoxModel",
          "model_module_version": "1.5.0",
          "state": {
            "_dom_classes": [],
            "_model_module": "@jupyter-widgets/controls",
            "_model_module_version": "1.5.0",
            "_model_name": "HBoxModel",
            "_view_count": null,
            "_view_module": "@jupyter-widgets/controls",
            "_view_module_version": "1.5.0",
            "_view_name": "HBoxView",
            "box_style": "",
            "children": [
              "IPY_MODEL_5d9791490da945edb4e9fb48a14c1c85",
              "IPY_MODEL_43f828dcda9948898eb8b526f9b0ff91",
              "IPY_MODEL_3348744763a3405ba49f87b7f461b7d5"
            ],
            "layout": "IPY_MODEL_73cb15419d8848bea655271eb936ed6e"
          }
        },
        "5d9791490da945edb4e9fb48a14c1c85": {
          "model_module": "@jupyter-widgets/controls",
          "model_name": "HTMLModel",
          "model_module_version": "1.5.0",
          "state": {
            "_dom_classes": [],
            "_model_module": "@jupyter-widgets/controls",
            "_model_module_version": "1.5.0",
            "_model_name": "HTMLModel",
            "_view_count": null,
            "_view_module": "@jupyter-widgets/controls",
            "_view_module_version": "1.5.0",
            "_view_name": "HTMLView",
            "description": "",
            "description_tooltip": null,
            "layout": "IPY_MODEL_adc0670fbea6481298a0a216a39f54f5",
            "placeholder": "​",
            "style": "IPY_MODEL_ba1bf71a527645c4b201112474b07f36",
            "value": "Map: 100%"
          }
        },
        "43f828dcda9948898eb8b526f9b0ff91": {
          "model_module": "@jupyter-widgets/controls",
          "model_name": "FloatProgressModel",
          "model_module_version": "1.5.0",
          "state": {
            "_dom_classes": [],
            "_model_module": "@jupyter-widgets/controls",
            "_model_module_version": "1.5.0",
            "_model_name": "FloatProgressModel",
            "_view_count": null,
            "_view_module": "@jupyter-widgets/controls",
            "_view_module_version": "1.5.0",
            "_view_name": "ProgressView",
            "bar_style": "success",
            "description": "",
            "description_tooltip": null,
            "layout": "IPY_MODEL_c835b7cdb1fd498e8eba8c8d26194b99",
            "max": 6400,
            "min": 0,
            "orientation": "horizontal",
            "style": "IPY_MODEL_e4969fab42e04a8480487b46e1dbc291",
            "value": 6400
          }
        },
        "3348744763a3405ba49f87b7f461b7d5": {
          "model_module": "@jupyter-widgets/controls",
          "model_name": "HTMLModel",
          "model_module_version": "1.5.0",
          "state": {
            "_dom_classes": [],
            "_model_module": "@jupyter-widgets/controls",
            "_model_module_version": "1.5.0",
            "_model_name": "HTMLModel",
            "_view_count": null,
            "_view_module": "@jupyter-widgets/controls",
            "_view_module_version": "1.5.0",
            "_view_name": "HTMLView",
            "description": "",
            "description_tooltip": null,
            "layout": "IPY_MODEL_64aa44b8c9c54af49a8171a1d26ebeeb",
            "placeholder": "​",
            "style": "IPY_MODEL_46f94f9f4d89486e85686c30afd1d2e2",
            "value": " 6400/6400 [00:04&lt;00:00, 1760.73 examples/s]"
          }
        },
        "73cb15419d8848bea655271eb936ed6e": {
          "model_module": "@jupyter-widgets/base",
          "model_name": "LayoutModel",
          "model_module_version": "1.2.0",
          "state": {
            "_model_module": "@jupyter-widgets/base",
            "_model_module_version": "1.2.0",
            "_model_name": "LayoutModel",
            "_view_count": null,
            "_view_module": "@jupyter-widgets/base",
            "_view_module_version": "1.2.0",
            "_view_name": "LayoutView",
            "align_content": null,
            "align_items": null,
            "align_self": null,
            "border": null,
            "bottom": null,
            "display": null,
            "flex": null,
            "flex_flow": null,
            "grid_area": null,
            "grid_auto_columns": null,
            "grid_auto_flow": null,
            "grid_auto_rows": null,
            "grid_column": null,
            "grid_gap": null,
            "grid_row": null,
            "grid_template_areas": null,
            "grid_template_columns": null,
            "grid_template_rows": null,
            "height": null,
            "justify_content": null,
            "justify_items": null,
            "left": null,
            "margin": null,
            "max_height": null,
            "max_width": null,
            "min_height": null,
            "min_width": null,
            "object_fit": null,
            "object_position": null,
            "order": null,
            "overflow": null,
            "overflow_x": null,
            "overflow_y": null,
            "padding": null,
            "right": null,
            "top": null,
            "visibility": null,
            "width": null
          }
        },
        "adc0670fbea6481298a0a216a39f54f5": {
          "model_module": "@jupyter-widgets/base",
          "model_name": "LayoutModel",
          "model_module_version": "1.2.0",
          "state": {
            "_model_module": "@jupyter-widgets/base",
            "_model_module_version": "1.2.0",
            "_model_name": "LayoutModel",
            "_view_count": null,
            "_view_module": "@jupyter-widgets/base",
            "_view_module_version": "1.2.0",
            "_view_name": "LayoutView",
            "align_content": null,
            "align_items": null,
            "align_self": null,
            "border": null,
            "bottom": null,
            "display": null,
            "flex": null,
            "flex_flow": null,
            "grid_area": null,
            "grid_auto_columns": null,
            "grid_auto_flow": null,
            "grid_auto_rows": null,
            "grid_column": null,
            "grid_gap": null,
            "grid_row": null,
            "grid_template_areas": null,
            "grid_template_columns": null,
            "grid_template_rows": null,
            "height": null,
            "justify_content": null,
            "justify_items": null,
            "left": null,
            "margin": null,
            "max_height": null,
            "max_width": null,
            "min_height": null,
            "min_width": null,
            "object_fit": null,
            "object_position": null,
            "order": null,
            "overflow": null,
            "overflow_x": null,
            "overflow_y": null,
            "padding": null,
            "right": null,
            "top": null,
            "visibility": null,
            "width": null
          }
        },
        "ba1bf71a527645c4b201112474b07f36": {
          "model_module": "@jupyter-widgets/controls",
          "model_name": "DescriptionStyleModel",
          "model_module_version": "1.5.0",
          "state": {
            "_model_module": "@jupyter-widgets/controls",
            "_model_module_version": "1.5.0",
            "_model_name": "DescriptionStyleModel",
            "_view_count": null,
            "_view_module": "@jupyter-widgets/base",
            "_view_module_version": "1.2.0",
            "_view_name": "StyleView",
            "description_width": ""
          }
        },
        "c835b7cdb1fd498e8eba8c8d26194b99": {
          "model_module": "@jupyter-widgets/base",
          "model_name": "LayoutModel",
          "model_module_version": "1.2.0",
          "state": {
            "_model_module": "@jupyter-widgets/base",
            "_model_module_version": "1.2.0",
            "_model_name": "LayoutModel",
            "_view_count": null,
            "_view_module": "@jupyter-widgets/base",
            "_view_module_version": "1.2.0",
            "_view_name": "LayoutView",
            "align_content": null,
            "align_items": null,
            "align_self": null,
            "border": null,
            "bottom": null,
            "display": null,
            "flex": null,
            "flex_flow": null,
            "grid_area": null,
            "grid_auto_columns": null,
            "grid_auto_flow": null,
            "grid_auto_rows": null,
            "grid_column": null,
            "grid_gap": null,
            "grid_row": null,
            "grid_template_areas": null,
            "grid_template_columns": null,
            "grid_template_rows": null,
            "height": null,
            "justify_content": null,
            "justify_items": null,
            "left": null,
            "margin": null,
            "max_height": null,
            "max_width": null,
            "min_height": null,
            "min_width": null,
            "object_fit": null,
            "object_position": null,
            "order": null,
            "overflow": null,
            "overflow_x": null,
            "overflow_y": null,
            "padding": null,
            "right": null,
            "top": null,
            "visibility": null,
            "width": null
          }
        },
        "e4969fab42e04a8480487b46e1dbc291": {
          "model_module": "@jupyter-widgets/controls",
          "model_name": "ProgressStyleModel",
          "model_module_version": "1.5.0",
          "state": {
            "_model_module": "@jupyter-widgets/controls",
            "_model_module_version": "1.5.0",
            "_model_name": "ProgressStyleModel",
            "_view_count": null,
            "_view_module": "@jupyter-widgets/base",
            "_view_module_version": "1.2.0",
            "_view_name": "StyleView",
            "bar_color": null,
            "description_width": ""
          }
        },
        "64aa44b8c9c54af49a8171a1d26ebeeb": {
          "model_module": "@jupyter-widgets/base",
          "model_name": "LayoutModel",
          "model_module_version": "1.2.0",
          "state": {
            "_model_module": "@jupyter-widgets/base",
            "_model_module_version": "1.2.0",
            "_model_name": "LayoutModel",
            "_view_count": null,
            "_view_module": "@jupyter-widgets/base",
            "_view_module_version": "1.2.0",
            "_view_name": "LayoutView",
            "align_content": null,
            "align_items": null,
            "align_self": null,
            "border": null,
            "bottom": null,
            "display": null,
            "flex": null,
            "flex_flow": null,
            "grid_area": null,
            "grid_auto_columns": null,
            "grid_auto_flow": null,
            "grid_auto_rows": null,
            "grid_column": null,
            "grid_gap": null,
            "grid_row": null,
            "grid_template_areas": null,
            "grid_template_columns": null,
            "grid_template_rows": null,
            "height": null,
            "justify_content": null,
            "justify_items": null,
            "left": null,
            "margin": null,
            "max_height": null,
            "max_width": null,
            "min_height": null,
            "min_width": null,
            "object_fit": null,
            "object_position": null,
            "order": null,
            "overflow": null,
            "overflow_x": null,
            "overflow_y": null,
            "padding": null,
            "right": null,
            "top": null,
            "visibility": null,
            "width": null
          }
        },
        "46f94f9f4d89486e85686c30afd1d2e2": {
          "model_module": "@jupyter-widgets/controls",
          "model_name": "DescriptionStyleModel",
          "model_module_version": "1.5.0",
          "state": {
            "_model_module": "@jupyter-widgets/controls",
            "_model_module_version": "1.5.0",
            "_model_name": "DescriptionStyleModel",
            "_view_count": null,
            "_view_module": "@jupyter-widgets/base",
            "_view_module_version": "1.2.0",
            "_view_name": "StyleView",
            "description_width": ""
          }
        },
        "86a6b6424adf40638141f8fa8b1065fd": {
          "model_module": "@jupyter-widgets/controls",
          "model_name": "HBoxModel",
          "model_module_version": "1.5.0",
          "state": {
            "_dom_classes": [],
            "_model_module": "@jupyter-widgets/controls",
            "_model_module_version": "1.5.0",
            "_model_name": "HBoxModel",
            "_view_count": null,
            "_view_module": "@jupyter-widgets/controls",
            "_view_module_version": "1.5.0",
            "_view_name": "HBoxView",
            "box_style": "",
            "children": [
              "IPY_MODEL_7ae9643ea5ae42cbb12073f80723f6c5",
              "IPY_MODEL_40dfdf07b0e54224b1c7f55e1001a8cc",
              "IPY_MODEL_70fc2853fca24fd2900f2498097aad30"
            ],
            "layout": "IPY_MODEL_eff191568f3949e2bfad2332260cdcd6"
          }
        },
        "7ae9643ea5ae42cbb12073f80723f6c5": {
          "model_module": "@jupyter-widgets/controls",
          "model_name": "HTMLModel",
          "model_module_version": "1.5.0",
          "state": {
            "_dom_classes": [],
            "_model_module": "@jupyter-widgets/controls",
            "_model_module_version": "1.5.0",
            "_model_name": "HTMLModel",
            "_view_count": null,
            "_view_module": "@jupyter-widgets/controls",
            "_view_module_version": "1.5.0",
            "_view_name": "HTMLView",
            "description": "",
            "description_tooltip": null,
            "layout": "IPY_MODEL_65353dcfc9a34ba5ba7080021dc37125",
            "placeholder": "​",
            "style": "IPY_MODEL_b515ded53e1c4625826e4850643ea2ed",
            "value": "Map: 100%"
          }
        },
        "40dfdf07b0e54224b1c7f55e1001a8cc": {
          "model_module": "@jupyter-widgets/controls",
          "model_name": "FloatProgressModel",
          "model_module_version": "1.5.0",
          "state": {
            "_dom_classes": [],
            "_model_module": "@jupyter-widgets/controls",
            "_model_module_version": "1.5.0",
            "_model_name": "FloatProgressModel",
            "_view_count": null,
            "_view_module": "@jupyter-widgets/controls",
            "_view_module_version": "1.5.0",
            "_view_name": "ProgressView",
            "bar_style": "success",
            "description": "",
            "description_tooltip": null,
            "layout": "IPY_MODEL_3d46f09cf6b64a0da137a70e0de9ed54",
            "max": 800,
            "min": 0,
            "orientation": "horizontal",
            "style": "IPY_MODEL_00622839891b4ce894765f1f0ef5878c",
            "value": 800
          }
        },
        "70fc2853fca24fd2900f2498097aad30": {
          "model_module": "@jupyter-widgets/controls",
          "model_name": "HTMLModel",
          "model_module_version": "1.5.0",
          "state": {
            "_dom_classes": [],
            "_model_module": "@jupyter-widgets/controls",
            "_model_module_version": "1.5.0",
            "_model_name": "HTMLModel",
            "_view_count": null,
            "_view_module": "@jupyter-widgets/controls",
            "_view_module_version": "1.5.0",
            "_view_name": "HTMLView",
            "description": "",
            "description_tooltip": null,
            "layout": "IPY_MODEL_62a9bed2a7d9438192b6528d464cd5ac",
            "placeholder": "​",
            "style": "IPY_MODEL_a0f25fc581744dcb8f5a6f814e971d2e",
            "value": " 800/800 [00:00&lt;00:00, 2021.14 examples/s]"
          }
        },
        "eff191568f3949e2bfad2332260cdcd6": {
          "model_module": "@jupyter-widgets/base",
          "model_name": "LayoutModel",
          "model_module_version": "1.2.0",
          "state": {
            "_model_module": "@jupyter-widgets/base",
            "_model_module_version": "1.2.0",
            "_model_name": "LayoutModel",
            "_view_count": null,
            "_view_module": "@jupyter-widgets/base",
            "_view_module_version": "1.2.0",
            "_view_name": "LayoutView",
            "align_content": null,
            "align_items": null,
            "align_self": null,
            "border": null,
            "bottom": null,
            "display": null,
            "flex": null,
            "flex_flow": null,
            "grid_area": null,
            "grid_auto_columns": null,
            "grid_auto_flow": null,
            "grid_auto_rows": null,
            "grid_column": null,
            "grid_gap": null,
            "grid_row": null,
            "grid_template_areas": null,
            "grid_template_columns": null,
            "grid_template_rows": null,
            "height": null,
            "justify_content": null,
            "justify_items": null,
            "left": null,
            "margin": null,
            "max_height": null,
            "max_width": null,
            "min_height": null,
            "min_width": null,
            "object_fit": null,
            "object_position": null,
            "order": null,
            "overflow": null,
            "overflow_x": null,
            "overflow_y": null,
            "padding": null,
            "right": null,
            "top": null,
            "visibility": null,
            "width": null
          }
        },
        "65353dcfc9a34ba5ba7080021dc37125": {
          "model_module": "@jupyter-widgets/base",
          "model_name": "LayoutModel",
          "model_module_version": "1.2.0",
          "state": {
            "_model_module": "@jupyter-widgets/base",
            "_model_module_version": "1.2.0",
            "_model_name": "LayoutModel",
            "_view_count": null,
            "_view_module": "@jupyter-widgets/base",
            "_view_module_version": "1.2.0",
            "_view_name": "LayoutView",
            "align_content": null,
            "align_items": null,
            "align_self": null,
            "border": null,
            "bottom": null,
            "display": null,
            "flex": null,
            "flex_flow": null,
            "grid_area": null,
            "grid_auto_columns": null,
            "grid_auto_flow": null,
            "grid_auto_rows": null,
            "grid_column": null,
            "grid_gap": null,
            "grid_row": null,
            "grid_template_areas": null,
            "grid_template_columns": null,
            "grid_template_rows": null,
            "height": null,
            "justify_content": null,
            "justify_items": null,
            "left": null,
            "margin": null,
            "max_height": null,
            "max_width": null,
            "min_height": null,
            "min_width": null,
            "object_fit": null,
            "object_position": null,
            "order": null,
            "overflow": null,
            "overflow_x": null,
            "overflow_y": null,
            "padding": null,
            "right": null,
            "top": null,
            "visibility": null,
            "width": null
          }
        },
        "b515ded53e1c4625826e4850643ea2ed": {
          "model_module": "@jupyter-widgets/controls",
          "model_name": "DescriptionStyleModel",
          "model_module_version": "1.5.0",
          "state": {
            "_model_module": "@jupyter-widgets/controls",
            "_model_module_version": "1.5.0",
            "_model_name": "DescriptionStyleModel",
            "_view_count": null,
            "_view_module": "@jupyter-widgets/base",
            "_view_module_version": "1.2.0",
            "_view_name": "StyleView",
            "description_width": ""
          }
        },
        "3d46f09cf6b64a0da137a70e0de9ed54": {
          "model_module": "@jupyter-widgets/base",
          "model_name": "LayoutModel",
          "model_module_version": "1.2.0",
          "state": {
            "_model_module": "@jupyter-widgets/base",
            "_model_module_version": "1.2.0",
            "_model_name": "LayoutModel",
            "_view_count": null,
            "_view_module": "@jupyter-widgets/base",
            "_view_module_version": "1.2.0",
            "_view_name": "LayoutView",
            "align_content": null,
            "align_items": null,
            "align_self": null,
            "border": null,
            "bottom": null,
            "display": null,
            "flex": null,
            "flex_flow": null,
            "grid_area": null,
            "grid_auto_columns": null,
            "grid_auto_flow": null,
            "grid_auto_rows": null,
            "grid_column": null,
            "grid_gap": null,
            "grid_row": null,
            "grid_template_areas": null,
            "grid_template_columns": null,
            "grid_template_rows": null,
            "height": null,
            "justify_content": null,
            "justify_items": null,
            "left": null,
            "margin": null,
            "max_height": null,
            "max_width": null,
            "min_height": null,
            "min_width": null,
            "object_fit": null,
            "object_position": null,
            "order": null,
            "overflow": null,
            "overflow_x": null,
            "overflow_y": null,
            "padding": null,
            "right": null,
            "top": null,
            "visibility": null,
            "width": null
          }
        },
        "00622839891b4ce894765f1f0ef5878c": {
          "model_module": "@jupyter-widgets/controls",
          "model_name": "ProgressStyleModel",
          "model_module_version": "1.5.0",
          "state": {
            "_model_module": "@jupyter-widgets/controls",
            "_model_module_version": "1.5.0",
            "_model_name": "ProgressStyleModel",
            "_view_count": null,
            "_view_module": "@jupyter-widgets/base",
            "_view_module_version": "1.2.0",
            "_view_name": "StyleView",
            "bar_color": null,
            "description_width": ""
          }
        },
        "62a9bed2a7d9438192b6528d464cd5ac": {
          "model_module": "@jupyter-widgets/base",
          "model_name": "LayoutModel",
          "model_module_version": "1.2.0",
          "state": {
            "_model_module": "@jupyter-widgets/base",
            "_model_module_version": "1.2.0",
            "_model_name": "LayoutModel",
            "_view_count": null,
            "_view_module": "@jupyter-widgets/base",
            "_view_module_version": "1.2.0",
            "_view_name": "LayoutView",
            "align_content": null,
            "align_items": null,
            "align_self": null,
            "border": null,
            "bottom": null,
            "display": null,
            "flex": null,
            "flex_flow": null,
            "grid_area": null,
            "grid_auto_columns": null,
            "grid_auto_flow": null,
            "grid_auto_rows": null,
            "grid_column": null,
            "grid_gap": null,
            "grid_row": null,
            "grid_template_areas": null,
            "grid_template_columns": null,
            "grid_template_rows": null,
            "height": null,
            "justify_content": null,
            "justify_items": null,
            "left": null,
            "margin": null,
            "max_height": null,
            "max_width": null,
            "min_height": null,
            "min_width": null,
            "object_fit": null,
            "object_position": null,
            "order": null,
            "overflow": null,
            "overflow_x": null,
            "overflow_y": null,
            "padding": null,
            "right": null,
            "top": null,
            "visibility": null,
            "width": null
          }
        },
        "a0f25fc581744dcb8f5a6f814e971d2e": {
          "model_module": "@jupyter-widgets/controls",
          "model_name": "DescriptionStyleModel",
          "model_module_version": "1.5.0",
          "state": {
            "_model_module": "@jupyter-widgets/controls",
            "_model_module_version": "1.5.0",
            "_model_name": "DescriptionStyleModel",
            "_view_count": null,
            "_view_module": "@jupyter-widgets/base",
            "_view_module_version": "1.2.0",
            "_view_name": "StyleView",
            "description_width": ""
          }
        },
        "d1aedf30e2bb439fb494dd770be6a055": {
          "model_module": "@jupyter-widgets/controls",
          "model_name": "HBoxModel",
          "model_module_version": "1.5.0",
          "state": {
            "_dom_classes": [],
            "_model_module": "@jupyter-widgets/controls",
            "_model_module_version": "1.5.0",
            "_model_name": "HBoxModel",
            "_view_count": null,
            "_view_module": "@jupyter-widgets/controls",
            "_view_module_version": "1.5.0",
            "_view_name": "HBoxView",
            "box_style": "",
            "children": [
              "IPY_MODEL_faa729fbc78a4b448c055640f2da8ef0",
              "IPY_MODEL_d431420ac94a44ef8e1bba278796a07a",
              "IPY_MODEL_87280582a5d94ee7bb09fe90c595580e"
            ],
            "layout": "IPY_MODEL_0439e90983e642f29c834f149f256f8e"
          }
        },
        "faa729fbc78a4b448c055640f2da8ef0": {
          "model_module": "@jupyter-widgets/controls",
          "model_name": "HTMLModel",
          "model_module_version": "1.5.0",
          "state": {
            "_dom_classes": [],
            "_model_module": "@jupyter-widgets/controls",
            "_model_module_version": "1.5.0",
            "_model_name": "HTMLModel",
            "_view_count": null,
            "_view_module": "@jupyter-widgets/controls",
            "_view_module_version": "1.5.0",
            "_view_name": "HTMLView",
            "description": "",
            "description_tooltip": null,
            "layout": "IPY_MODEL_676c7c4ce15d41919fc0edc5f53d2e07",
            "placeholder": "​",
            "style": "IPY_MODEL_7f9495ef11334b77bc7fe097ffeacfe2",
            "value": "Map: 100%"
          }
        },
        "d431420ac94a44ef8e1bba278796a07a": {
          "model_module": "@jupyter-widgets/controls",
          "model_name": "FloatProgressModel",
          "model_module_version": "1.5.0",
          "state": {
            "_dom_classes": [],
            "_model_module": "@jupyter-widgets/controls",
            "_model_module_version": "1.5.0",
            "_model_name": "FloatProgressModel",
            "_view_count": null,
            "_view_module": "@jupyter-widgets/controls",
            "_view_module_version": "1.5.0",
            "_view_name": "ProgressView",
            "bar_style": "success",
            "description": "",
            "description_tooltip": null,
            "layout": "IPY_MODEL_95ea5c4f831749ee83c24687605410fc",
            "max": 800,
            "min": 0,
            "orientation": "horizontal",
            "style": "IPY_MODEL_1f767b2189d242fe892df548abde255f",
            "value": 800
          }
        },
        "87280582a5d94ee7bb09fe90c595580e": {
          "model_module": "@jupyter-widgets/controls",
          "model_name": "HTMLModel",
          "model_module_version": "1.5.0",
          "state": {
            "_dom_classes": [],
            "_model_module": "@jupyter-widgets/controls",
            "_model_module_version": "1.5.0",
            "_model_name": "HTMLModel",
            "_view_count": null,
            "_view_module": "@jupyter-widgets/controls",
            "_view_module_version": "1.5.0",
            "_view_name": "HTMLView",
            "description": "",
            "description_tooltip": null,
            "layout": "IPY_MODEL_cf99e8e8f4ee4444a63ee631105fdac0",
            "placeholder": "​",
            "style": "IPY_MODEL_b73febd4f1f2458681aa9c9a48fd1821",
            "value": " 800/800 [00:00&lt;00:00, 1906.11 examples/s]"
          }
        },
        "0439e90983e642f29c834f149f256f8e": {
          "model_module": "@jupyter-widgets/base",
          "model_name": "LayoutModel",
          "model_module_version": "1.2.0",
          "state": {
            "_model_module": "@jupyter-widgets/base",
            "_model_module_version": "1.2.0",
            "_model_name": "LayoutModel",
            "_view_count": null,
            "_view_module": "@jupyter-widgets/base",
            "_view_module_version": "1.2.0",
            "_view_name": "LayoutView",
            "align_content": null,
            "align_items": null,
            "align_self": null,
            "border": null,
            "bottom": null,
            "display": null,
            "flex": null,
            "flex_flow": null,
            "grid_area": null,
            "grid_auto_columns": null,
            "grid_auto_flow": null,
            "grid_auto_rows": null,
            "grid_column": null,
            "grid_gap": null,
            "grid_row": null,
            "grid_template_areas": null,
            "grid_template_columns": null,
            "grid_template_rows": null,
            "height": null,
            "justify_content": null,
            "justify_items": null,
            "left": null,
            "margin": null,
            "max_height": null,
            "max_width": null,
            "min_height": null,
            "min_width": null,
            "object_fit": null,
            "object_position": null,
            "order": null,
            "overflow": null,
            "overflow_x": null,
            "overflow_y": null,
            "padding": null,
            "right": null,
            "top": null,
            "visibility": null,
            "width": null
          }
        },
        "676c7c4ce15d41919fc0edc5f53d2e07": {
          "model_module": "@jupyter-widgets/base",
          "model_name": "LayoutModel",
          "model_module_version": "1.2.0",
          "state": {
            "_model_module": "@jupyter-widgets/base",
            "_model_module_version": "1.2.0",
            "_model_name": "LayoutModel",
            "_view_count": null,
            "_view_module": "@jupyter-widgets/base",
            "_view_module_version": "1.2.0",
            "_view_name": "LayoutView",
            "align_content": null,
            "align_items": null,
            "align_self": null,
            "border": null,
            "bottom": null,
            "display": null,
            "flex": null,
            "flex_flow": null,
            "grid_area": null,
            "grid_auto_columns": null,
            "grid_auto_flow": null,
            "grid_auto_rows": null,
            "grid_column": null,
            "grid_gap": null,
            "grid_row": null,
            "grid_template_areas": null,
            "grid_template_columns": null,
            "grid_template_rows": null,
            "height": null,
            "justify_content": null,
            "justify_items": null,
            "left": null,
            "margin": null,
            "max_height": null,
            "max_width": null,
            "min_height": null,
            "min_width": null,
            "object_fit": null,
            "object_position": null,
            "order": null,
            "overflow": null,
            "overflow_x": null,
            "overflow_y": null,
            "padding": null,
            "right": null,
            "top": null,
            "visibility": null,
            "width": null
          }
        },
        "7f9495ef11334b77bc7fe097ffeacfe2": {
          "model_module": "@jupyter-widgets/controls",
          "model_name": "DescriptionStyleModel",
          "model_module_version": "1.5.0",
          "state": {
            "_model_module": "@jupyter-widgets/controls",
            "_model_module_version": "1.5.0",
            "_model_name": "DescriptionStyleModel",
            "_view_count": null,
            "_view_module": "@jupyter-widgets/base",
            "_view_module_version": "1.2.0",
            "_view_name": "StyleView",
            "description_width": ""
          }
        },
        "95ea5c4f831749ee83c24687605410fc": {
          "model_module": "@jupyter-widgets/base",
          "model_name": "LayoutModel",
          "model_module_version": "1.2.0",
          "state": {
            "_model_module": "@jupyter-widgets/base",
            "_model_module_version": "1.2.0",
            "_model_name": "LayoutModel",
            "_view_count": null,
            "_view_module": "@jupyter-widgets/base",
            "_view_module_version": "1.2.0",
            "_view_name": "LayoutView",
            "align_content": null,
            "align_items": null,
            "align_self": null,
            "border": null,
            "bottom": null,
            "display": null,
            "flex": null,
            "flex_flow": null,
            "grid_area": null,
            "grid_auto_columns": null,
            "grid_auto_flow": null,
            "grid_auto_rows": null,
            "grid_column": null,
            "grid_gap": null,
            "grid_row": null,
            "grid_template_areas": null,
            "grid_template_columns": null,
            "grid_template_rows": null,
            "height": null,
            "justify_content": null,
            "justify_items": null,
            "left": null,
            "margin": null,
            "max_height": null,
            "max_width": null,
            "min_height": null,
            "min_width": null,
            "object_fit": null,
            "object_position": null,
            "order": null,
            "overflow": null,
            "overflow_x": null,
            "overflow_y": null,
            "padding": null,
            "right": null,
            "top": null,
            "visibility": null,
            "width": null
          }
        },
        "1f767b2189d242fe892df548abde255f": {
          "model_module": "@jupyter-widgets/controls",
          "model_name": "ProgressStyleModel",
          "model_module_version": "1.5.0",
          "state": {
            "_model_module": "@jupyter-widgets/controls",
            "_model_module_version": "1.5.0",
            "_model_name": "ProgressStyleModel",
            "_view_count": null,
            "_view_module": "@jupyter-widgets/base",
            "_view_module_version": "1.2.0",
            "_view_name": "StyleView",
            "bar_color": null,
            "description_width": ""
          }
        },
        "cf99e8e8f4ee4444a63ee631105fdac0": {
          "model_module": "@jupyter-widgets/base",
          "model_name": "LayoutModel",
          "model_module_version": "1.2.0",
          "state": {
            "_model_module": "@jupyter-widgets/base",
            "_model_module_version": "1.2.0",
            "_model_name": "LayoutModel",
            "_view_count": null,
            "_view_module": "@jupyter-widgets/base",
            "_view_module_version": "1.2.0",
            "_view_name": "LayoutView",
            "align_content": null,
            "align_items": null,
            "align_self": null,
            "border": null,
            "bottom": null,
            "display": null,
            "flex": null,
            "flex_flow": null,
            "grid_area": null,
            "grid_auto_columns": null,
            "grid_auto_flow": null,
            "grid_auto_rows": null,
            "grid_column": null,
            "grid_gap": null,
            "grid_row": null,
            "grid_template_areas": null,
            "grid_template_columns": null,
            "grid_template_rows": null,
            "height": null,
            "justify_content": null,
            "justify_items": null,
            "left": null,
            "margin": null,
            "max_height": null,
            "max_width": null,
            "min_height": null,
            "min_width": null,
            "object_fit": null,
            "object_position": null,
            "order": null,
            "overflow": null,
            "overflow_x": null,
            "overflow_y": null,
            "padding": null,
            "right": null,
            "top": null,
            "visibility": null,
            "width": null
          }
        },
        "b73febd4f1f2458681aa9c9a48fd1821": {
          "model_module": "@jupyter-widgets/controls",
          "model_name": "DescriptionStyleModel",
          "model_module_version": "1.5.0",
          "state": {
            "_model_module": "@jupyter-widgets/controls",
            "_model_module_version": "1.5.0",
            "_model_name": "DescriptionStyleModel",
            "_view_count": null,
            "_view_module": "@jupyter-widgets/base",
            "_view_module_version": "1.2.0",
            "_view_name": "StyleView",
            "description_width": ""
          }
        }
      }
    }
  },
  "cells": [
    {
      "cell_type": "markdown",
      "source": [
        "# ISY503 Intelligent Systems — Assessment 3 Project\n",
        "\n",
        "**Project:** Sentiment Classification with DistilBERT  \n",
        "**Group Members:**  \n",
        "- Ahmet  \n",
        "- Ijod\n",
        "- Munaf\n",
        "- Yasin\n",
        "\n",
        "This notebook contains the implementation and training of our DistilBERT-based sentiment classifier.  \n"
      ],
      "metadata": {
        "id": "GFOaAQ8rhWOt"
      }
    },
    {
      "cell_type": "markdown",
      "source": [
        "# GPU Check"
      ],
      "metadata": {
        "id": "PaXFfEmOjs-a"
      }
    },
    {
      "cell_type": "code",
      "execution_count": null,
      "metadata": {
        "colab": {
          "base_uri": "https://localhost:8080/"
        },
        "id": "jN4-NJWdkpYA",
        "outputId": "d76226e0-baa8-4a67-9e63-4f4563aecc81"
      },
      "outputs": [
        {
          "output_type": "stream",
          "name": "stdout",
          "text": [
            "TensorFlow version: 2.19.0\n",
            "Num GPUs Available: 1\n",
            "Tue Aug 19 15:05:21 2025       \n",
            "+-----------------------------------------------------------------------------------------+\n",
            "| NVIDIA-SMI 550.54.15              Driver Version: 550.54.15      CUDA Version: 12.4     |\n",
            "|-----------------------------------------+------------------------+----------------------+\n",
            "| GPU  Name                 Persistence-M | Bus-Id          Disp.A | Volatile Uncorr. ECC |\n",
            "| Fan  Temp   Perf          Pwr:Usage/Cap |           Memory-Usage | GPU-Util  Compute M. |\n",
            "|                                         |                        |               MIG M. |\n",
            "|=========================================+========================+======================|\n",
            "|   0  Tesla T4                       Off |   00000000:00:04.0 Off |                    0 |\n",
            "| N/A   43C    P8             11W /   70W |       2MiB /  15360MiB |      0%      Default |\n",
            "|                                         |                        |                  N/A |\n",
            "+-----------------------------------------+------------------------+----------------------+\n",
            "                                                                                         \n",
            "+-----------------------------------------------------------------------------------------+\n",
            "| Processes:                                                                              |\n",
            "|  GPU   GI   CI        PID   Type   Process name                              GPU Memory |\n",
            "|        ID   ID                                                               Usage      |\n",
            "|=========================================================================================|\n",
            "|  No running processes found                                                             |\n",
            "+-----------------------------------------------------------------------------------------+\n"
          ]
        }
      ],
      "source": [
        "import tensorflow as tf\n",
        "\n",
        "print(\"TensorFlow version:\", tf.__version__)\n",
        "print(\"Num GPUs Available:\", len(tf.config.list_physical_devices('GPU')))\n",
        "\n",
        "# Detailed device info\n",
        "!nvidia-smi || echo \"⚠️ No GPU detected. In Colab, go to Runtime → Change runtime type → set Hardware accelerator to GPU.\"\n"
      ]
    },
    {
      "cell_type": "markdown",
      "source": [
        "# Install required libraries"
      ],
      "metadata": {
        "id": "M6_VVuSHjnyb"
      }
    },
    {
      "cell_type": "code",
      "source": [
        "# Step 3 — Clean install (TensorFlow-only)\n",
        "\n",
        "# 0) Kaldır: PyTorch ve gcsfs (fsspec kilidi koyuyor)\n",
        "!pip uninstall -y -q torch torchvision torchaudio gcsfs dask-cudf-cu12 cudf-cu12 || true\n",
        "\n",
        "# 1) Uyumlu kütüphaneleri kur\n",
        "#    - pandas 2.2.2 (google-colab ile uyumlu)\n",
        "#    - scikit-learn 1.6.1 (geniş uyumluluk)\n",
        "#    - transformers/datasets (TF ile kullanılacak)\n",
        "!pip install -q --upgrade --no-cache-dir \\\n",
        "  pandas==2.2.2 \\\n",
        "  scikit-learn==1.6.1 \\\n",
        "  transformers==4.44.2 \\\n",
        "  datasets==2.20.0 \\\n",
        "  tqdm==4.66.4\n",
        "\n",
        "# 2) Hızlı kontrol\n",
        "import pandas as pd, sklearn, datasets, transformers\n",
        "print(\"pandas:\", pd.__version__)\n",
        "print(\"scikit-learn:\", sklearn.__version__)\n",
        "print(\"datasets:\", datasets.__version__)\n",
        "print(\"transformers:\", transformers.__version__)\n",
        "print(\"✅ Libraries ready (no gcsfs, no torch).\")\n"
      ],
      "metadata": {
        "colab": {
          "base_uri": "https://localhost:8080/"
        },
        "id": "rlKbUs3bjlVm",
        "outputId": "b4f5fa89-927b-4e18-dcce-dff285a658aa"
      },
      "execution_count": null,
      "outputs": [
        {
          "output_type": "stream",
          "name": "stdout",
          "text": [
            "\u001b[33mWARNING: Skipping torch as it is not installed.\u001b[0m\u001b[33m\n",
            "\u001b[0m\u001b[33mWARNING: Skipping torchvision as it is not installed.\u001b[0m\u001b[33m\n",
            "\u001b[0m\u001b[33mWARNING: Skipping torchaudio as it is not installed.\u001b[0m\u001b[33m\n",
            "\u001b[0m\u001b[33mWARNING: Skipping gcsfs as it is not installed.\u001b[0m\u001b[33m\n",
            "\u001b[0m\u001b[33mWARNING: Skipping dask-cudf-cu12 as it is not installed.\u001b[0m\u001b[33m\n",
            "\u001b[0m\u001b[33mWARNING: Skipping cudf-cu12 as it is not installed.\u001b[0m\u001b[33m\n",
            "\u001b[0mpandas: 2.2.2\n",
            "scikit-learn: 1.6.1\n",
            "datasets: 2.20.0\n",
            "transformers: 4.44.2\n",
            "✅ Libraries ready (no gcsfs, no torch).\n"
          ]
        }
      ]
    },
    {
      "cell_type": "markdown",
      "source": [
        "# Bring the project into Colab"
      ],
      "metadata": {
        "id": "iJ7mYVEmnfr_"
      }
    },
    {
      "cell_type": "code",
      "source": [
        "# Step 4 — Clone the project repo into Colab\n",
        "\n",
        "REPO_URL = \"https://github.com/ahmetcihan/isy_nlp_project.git\"\n",
        "PROJECT_ROOT = \"/content/isy_nlp_project\"\n",
        "\n",
        "# Remove any existing folder and clone fresh\n",
        "!rm -rf $PROJECT_ROOT\n",
        "!git clone --depth 1 $REPO_URL $PROJECT_ROOT\n",
        "\n",
        "print(\"PROJECT_ROOT:\", PROJECT_ROOT)\n",
        "!ls -la $PROJECT_ROOT\n"
      ],
      "metadata": {
        "colab": {
          "base_uri": "https://localhost:8080/"
        },
        "id": "7-eBqv8vnmTN",
        "outputId": "10e452a4-da48-4fe2-dcab-bc008e6a48c3"
      },
      "execution_count": null,
      "outputs": [
        {
          "output_type": "stream",
          "name": "stdout",
          "text": [
            "Cloning into '/content/isy_nlp_project'...\n",
            "remote: Enumerating objects: 36, done.\u001b[K\n",
            "remote: Counting objects: 100% (36/36), done.\u001b[K\n",
            "remote: Compressing objects: 100% (30/30), done.\u001b[K\n",
            "remote: Total 36 (delta 3), reused 36 (delta 3), pack-reused 0 (from 0)\u001b[K\n",
            "Receiving objects: 100% (36/36), 4.00 MiB | 6.70 MiB/s, done.\n",
            "Resolving deltas: 100% (3/3), done.\n",
            "PROJECT_ROOT: /content/isy_nlp_project\n",
            "total 56\n",
            "drwxr-xr-x 10 root root 4096 Aug 19 15:05 .\n",
            "drwxr-xr-x  1 root root 4096 Aug 19 15:05 ..\n",
            "drwxr-xr-x  2 root root 4096 Aug 19 15:05 app\n",
            "drwxr-xr-x  3 root root 4096 Aug 19 15:05 data\n",
            "drwxr-xr-x  2 root root 4096 Aug 19 15:05 docs\n",
            "drwxr-xr-x  8 root root 4096 Aug 19 15:05 .git\n",
            "-rw-r--r--  1 root root  233 Aug 19 15:05 .gitignore\n",
            "-rwxr-xr-x  1 root root 2533 Aug 19 15:05 merge_with_all_branches.sh\n",
            "drwxr-xr-x  2 root root 4096 Aug 19 15:05 models\n",
            "drwxr-xr-x  2 root root 4096 Aug 19 15:05 notebooks\n",
            "-rw-r--r--  1 root root   33 Aug 19 15:05 README.md\n",
            "drwxr-xr-x  2 root root 4096 Aug 19 15:05 slides\n",
            "drwxr-xr-x  2 root root 4096 Aug 19 15:05 src\n",
            "-rwxr-xr-x  1 root root  476 Aug 19 15:05 update_branches.sh\n"
          ]
        }
      ]
    },
    {
      "cell_type": "markdown",
      "source": [
        "# Verify dataset splits"
      ],
      "metadata": {
        "id": "sl-J2W7popGH"
      }
    },
    {
      "cell_type": "code",
      "source": [
        "# Step 5 — Count rows and preview a few examples from the global split\n",
        "\n",
        "from pathlib import Path\n",
        "import json\n",
        "\n",
        "GLOBAL_DIR = Path(\"/content/isy_nlp_project/data/processed/global\")\n",
        "print(\"GLOBAL_DIR:\", GLOBAL_DIR)\n",
        "\n",
        "def count_lines(p: Path) -> int:\n",
        "    try:\n",
        "        with p.open(\"r\", encoding=\"utf-8\") as f:\n",
        "            return sum(1 for _ in f)\n",
        "    except FileNotFoundError:\n",
        "        return 0\n",
        "\n",
        "for split in [\"train\", \"val\", \"test\"]:\n",
        "    p = GLOBAL_DIR / f\"{split}.jsonl\"\n",
        "    print(f\"{split:5s} -> {count_lines(p):6d} lines | {p}\")\n",
        "\n",
        "# Show first 3 lines from train.jsonl to confirm field names (e.g., \"text\" and \"label\")\n",
        "train_path = GLOBAL_DIR / \"train.jsonl\"\n",
        "print(\"\\n--- First 3 lines of train.jsonl ---\")\n",
        "try:\n",
        "    with train_path.open(\"r\", encoding=\"utf-8\") as f:\n",
        "        for i, line in enumerate(f):\n",
        "            if i >= 3: break\n",
        "            print(line.rstrip())\n",
        "except FileNotFoundError:\n",
        "    print(\"train.jsonl not found.\")\n"
      ],
      "metadata": {
        "colab": {
          "base_uri": "https://localhost:8080/"
        },
        "id": "ziyjaml-or5z",
        "outputId": "d28d1ba9-3679-4a63-ef5b-0dd2e3ece45f"
      },
      "execution_count": null,
      "outputs": [
        {
          "output_type": "stream",
          "name": "stdout",
          "text": [
            "GLOBAL_DIR: /content/isy_nlp_project/data/processed/global\n",
            "train ->   6400 lines | /content/isy_nlp_project/data/processed/global/train.jsonl\n",
            "val   ->    800 lines | /content/isy_nlp_project/data/processed/global/val.jsonl\n",
            "test  ->    800 lines | /content/isy_nlp_project/data/processed/global/test.jsonl\n",
            "\n",
            "--- First 3 lines of train.jsonl ---\n",
            "{\"id\": \"books-positive-200\", \"domain\": \"books\", \"label\": 1, \"text\": \"This is one of the best -- and scariest -- business books I've ever read. Christensen clearly illustrates why many of the 'tried and true' formulas really don't work. His research is compelling and is presented clearly enough for non-technical readers. I can't recommend this book highly enough\"}\n",
            "{\"id\": \"books-positive-362\", \"domain\": \"books\", \"label\": 1, \"text\": \"I thought that the two books previous to this in the Duncan Kincaid/Gemma James series were slight disappointments. Kincaid seemed relegated to a side character with Gemma taking the lead. IN A DARK HOUSE is an excellent mystery that brings the two back to equal ground and re-establishes them as one of the best partnerships in mystery fiction\"}\n",
            "{\"id\": \"books-positive-852\", \"domain\": \"books\", \"label\": 1, \"text\": \"I originally bought this for my almost-2-year-old because I wanted him to have a new alphabet book with both upper and lower case letters shown (there are not many out there besides chicka chicka boom boom). Instead it has become a favorite of my three year old who already knows her letters. The reason: this book shows the letters and has beautiful illustrations of many items in one picture that begin with each letter. Some things are easy to find in the picture and others are more challenging. It is a beautiful book that provides \\\"I spy\\\" and \\\"Where's Waldo\\\" type challenges. I highly recommend this book for the 1-5 crowd\"}\n"
          ]
        }
      ]
    },
    {
      "cell_type": "markdown",
      "source": [
        "# Load tokenizer and tokenize the dataset"
      ],
      "metadata": {
        "id": "gQJnyKFEwc1L"
      }
    },
    {
      "cell_type": "code",
      "source": [
        "# Step 6 — Load tokenizer and tokenize (no training yet)\n",
        "\n",
        "from datasets import Dataset, DatasetDict\n",
        "from transformers import AutoTokenizer\n",
        "import pandas as pd\n",
        "import json\n",
        "from pathlib import Path\n",
        "\n",
        "MODEL_NAME = \"distilbert-base-uncased\"\n",
        "MAX_LEN = 256\n",
        "\n",
        "# 1) Load JSONL into Hugging Face Datasets\n",
        "GLOBAL_DIR = Path(\"/content/isy_nlp_project/data/processed/global\")\n",
        "\n",
        "def read_jsonl(path: Path):\n",
        "    rows = []\n",
        "    with path.open(\"r\", encoding=\"utf-8\") as f:\n",
        "        for line in f:\n",
        "            line = line.strip()\n",
        "            if line:\n",
        "                rows.append(json.loads(line))\n",
        "    return rows\n",
        "\n",
        "def normalize_fields(row: dict):\n",
        "    \"\"\"\n",
        "    Map various possible field names into a consistent schema:\n",
        "    - text: review/content sentence as string\n",
        "    - label: integer 0/1\n",
        "    \"\"\"\n",
        "    # Text field\n",
        "    text = None\n",
        "    for k in [\"text\", \"review\", \"sentence\", \"content\", \"reviewText\"]:\n",
        "        if k in row and isinstance(row[k], str):\n",
        "            text = row[k]\n",
        "            break\n",
        "    if text is None:\n",
        "        raise KeyError(f\"No text field found in: {list(row.keys())}\")\n",
        "\n",
        "    # Label field\n",
        "    label = None\n",
        "    for k in [\"label\", \"sentiment\", \"target\", \"y\"]:\n",
        "        if k in row:\n",
        "            label = row[k]\n",
        "            break\n",
        "    if isinstance(label, str):\n",
        "        v = label.lower()\n",
        "        if v in {\"pos\", \"positive\", \"+\", \"1\"}:\n",
        "            label = 1\n",
        "        elif v in {\"neg\", \"negative\", \"-\", \"0\"}:\n",
        "            label = 0\n",
        "        else:\n",
        "            raise ValueError(f\"Unrecognized label value: {label}\")\n",
        "    if label is None:\n",
        "        raise KeyError(\"No label field found\")\n",
        "\n",
        "    return {\"text\": text, \"label\": int(label)}\n",
        "\n",
        "def load_split(base: Path, split: str) -> Dataset:\n",
        "    rows = [normalize_fields(r) for r in read_jsonl(base / f\"{split}.jsonl\")]\n",
        "    return Dataset.from_pandas(pd.DataFrame(rows))\n",
        "\n",
        "raw_ds = DatasetDict({\n",
        "    \"train\": load_split(GLOBAL_DIR, \"train\"),\n",
        "    \"validation\": load_split(GLOBAL_DIR, \"val\"),\n",
        "    \"test\": load_split(GLOBAL_DIR, \"test\"),\n",
        "})\n",
        "\n",
        "print(raw_ds)\n",
        "\n",
        "# 2) Tokenize with DistilBERT tokenizer\n",
        "tokenizer = AutoTokenizer.from_pretrained(MODEL_NAME, use_fast=True)\n",
        "\n",
        "def tok(batch):\n",
        "    # Use fixed padding to MAX_LEN for TF batches; truncation prevents overflow\n",
        "    return tokenizer(batch[\"text\"], truncation=True, padding=\"max_length\", max_length=MAX_LEN)\n",
        "\n",
        "tokenized = raw_ds.map(tok, batched=True, remove_columns=[c for c in raw_ds[\"train\"].column_names if c != \"label\"])\n",
        "tokenized = tokenized.rename_column(\"label\", \"labels\")  # transformers' TF models expect 'labels'\n",
        "\n",
        "print(tokenized)\n"
      ],
      "metadata": {
        "colab": {
          "base_uri": "https://localhost:8080/",
          "height": 758,
          "referenced_widgets": [
            "8ca897002d9e4c8d88c69db76acbba9c",
            "5d9791490da945edb4e9fb48a14c1c85",
            "43f828dcda9948898eb8b526f9b0ff91",
            "3348744763a3405ba49f87b7f461b7d5",
            "73cb15419d8848bea655271eb936ed6e",
            "adc0670fbea6481298a0a216a39f54f5",
            "ba1bf71a527645c4b201112474b07f36",
            "c835b7cdb1fd498e8eba8c8d26194b99",
            "e4969fab42e04a8480487b46e1dbc291",
            "64aa44b8c9c54af49a8171a1d26ebeeb",
            "46f94f9f4d89486e85686c30afd1d2e2",
            "86a6b6424adf40638141f8fa8b1065fd",
            "7ae9643ea5ae42cbb12073f80723f6c5",
            "40dfdf07b0e54224b1c7f55e1001a8cc",
            "70fc2853fca24fd2900f2498097aad30",
            "eff191568f3949e2bfad2332260cdcd6",
            "65353dcfc9a34ba5ba7080021dc37125",
            "b515ded53e1c4625826e4850643ea2ed",
            "3d46f09cf6b64a0da137a70e0de9ed54",
            "00622839891b4ce894765f1f0ef5878c",
            "62a9bed2a7d9438192b6528d464cd5ac",
            "a0f25fc581744dcb8f5a6f814e971d2e",
            "d1aedf30e2bb439fb494dd770be6a055",
            "faa729fbc78a4b448c055640f2da8ef0",
            "d431420ac94a44ef8e1bba278796a07a",
            "87280582a5d94ee7bb09fe90c595580e",
            "0439e90983e642f29c834f149f256f8e",
            "676c7c4ce15d41919fc0edc5f53d2e07",
            "7f9495ef11334b77bc7fe097ffeacfe2",
            "95ea5c4f831749ee83c24687605410fc",
            "1f767b2189d242fe892df548abde255f",
            "cf99e8e8f4ee4444a63ee631105fdac0",
            "b73febd4f1f2458681aa9c9a48fd1821"
          ]
        },
        "id": "L82A0bUNwjlM",
        "outputId": "e7215ac1-a433-49fd-858d-7c5e908c128e"
      },
      "execution_count": null,
      "outputs": [
        {
          "output_type": "stream",
          "name": "stdout",
          "text": [
            "DatasetDict({\n",
            "    train: Dataset({\n",
            "        features: ['text', 'label'],\n",
            "        num_rows: 6400\n",
            "    })\n",
            "    validation: Dataset({\n",
            "        features: ['text', 'label'],\n",
            "        num_rows: 800\n",
            "    })\n",
            "    test: Dataset({\n",
            "        features: ['text', 'label'],\n",
            "        num_rows: 800\n",
            "    })\n",
            "})\n"
          ]
        },
        {
          "output_type": "stream",
          "name": "stderr",
          "text": [
            "/usr/local/lib/python3.11/dist-packages/huggingface_hub/utils/_auth.py:94: UserWarning: \n",
            "The secret `HF_TOKEN` does not exist in your Colab secrets.\n",
            "To authenticate with the Hugging Face Hub, create a token in your settings tab (https://huggingface.co/settings/tokens), set it as secret in your Google Colab and restart your session.\n",
            "You will be able to reuse this secret in all of your notebooks.\n",
            "Please note that authentication is recommended but still optional to access public models or datasets.\n",
            "  warnings.warn(\n",
            "/usr/local/lib/python3.11/dist-packages/transformers/tokenization_utils_base.py:1601: FutureWarning: `clean_up_tokenization_spaces` was not set. It will be set to `True` by default. This behavior will be depracted in transformers v4.45, and will be then set to `False` by default. For more details check this issue: https://github.com/huggingface/transformers/issues/31884\n",
            "  warnings.warn(\n"
          ]
        },
        {
          "output_type": "display_data",
          "data": {
            "text/plain": [
              "Map:   0%|          | 0/6400 [00:00<?, ? examples/s]"
            ],
            "application/vnd.jupyter.widget-view+json": {
              "version_major": 2,
              "version_minor": 0,
              "model_id": "8ca897002d9e4c8d88c69db76acbba9c"
            }
          },
          "metadata": {}
        },
        {
          "output_type": "display_data",
          "data": {
            "text/plain": [
              "Map:   0%|          | 0/800 [00:00<?, ? examples/s]"
            ],
            "application/vnd.jupyter.widget-view+json": {
              "version_major": 2,
              "version_minor": 0,
              "model_id": "86a6b6424adf40638141f8fa8b1065fd"
            }
          },
          "metadata": {}
        },
        {
          "output_type": "display_data",
          "data": {
            "text/plain": [
              "Map:   0%|          | 0/800 [00:00<?, ? examples/s]"
            ],
            "application/vnd.jupyter.widget-view+json": {
              "version_major": 2,
              "version_minor": 0,
              "model_id": "d1aedf30e2bb439fb494dd770be6a055"
            }
          },
          "metadata": {}
        },
        {
          "output_type": "stream",
          "name": "stdout",
          "text": [
            "DatasetDict({\n",
            "    train: Dataset({\n",
            "        features: ['labels', 'input_ids', 'attention_mask'],\n",
            "        num_rows: 6400\n",
            "    })\n",
            "    validation: Dataset({\n",
            "        features: ['labels', 'input_ids', 'attention_mask'],\n",
            "        num_rows: 800\n",
            "    })\n",
            "    test: Dataset({\n",
            "        features: ['labels', 'input_ids', 'attention_mask'],\n",
            "        num_rows: 800\n",
            "    })\n",
            "})\n"
          ]
        }
      ]
    },
    {
      "cell_type": "markdown",
      "source": [
        "# Build TensorFlow datasets"
      ],
      "metadata": {
        "id": "XffIffuMxAYn"
      }
    },
    {
      "cell_type": "code",
      "source": [
        "# Step 7 — Build tf.data.Dataset without to_tf_dataset (NumPy 2.x friendly)\n",
        "\n",
        "import numpy as np\n",
        "import tensorflow as tf\n",
        "\n",
        "BATCH_SIZE = 16  # You can tune this (8–32 is usually fine on T4)\n",
        "\n",
        "def ds_to_tfdataset(hf_ds):\n",
        "    \"\"\"\n",
        "    Convert a tokenized Hugging Face split into a tf.data.Dataset\n",
        "    WITHOUT using `to_tf_dataset` (to avoid NumPy 2.x issues).\n",
        "    Expects columns: input_ids, attention_mask, labels\n",
        "    \"\"\"\n",
        "    # Extract arrays\n",
        "    input_ids = np.array(hf_ds[\"input_ids\"])\n",
        "    attention_mask = np.array(hf_ds[\"attention_mask\"])\n",
        "    labels = np.array(hf_ds[\"labels\"])\n",
        "\n",
        "    # Build a tf.data.Dataset from tensors\n",
        "    ds = tf.data.Dataset.from_tensor_slices((\n",
        "        {\"input_ids\": input_ids, \"attention_mask\": attention_mask},\n",
        "        labels\n",
        "    ))\n",
        "    return ds\n",
        "\n",
        "tf_train = ds_to_tfdataset(tokenized[\"train\"]).shuffle(10_000).batch(BATCH_SIZE).prefetch(tf.data.AUTOTUNE)\n",
        "tf_val   = ds_to_tfdataset(tokenized[\"validation\"]).batch(BATCH_SIZE).prefetch(tf.data.AUTOTUNE)\n",
        "tf_test  = ds_to_tfdataset(tokenized[\"test\"]).batch(BATCH_SIZE).prefetch(tf.data.AUTOTUNE)\n",
        "\n",
        "tf_train, tf_val, tf_test\n"
      ],
      "metadata": {
        "colab": {
          "base_uri": "https://localhost:8080/"
        },
        "id": "D7ACUKh0xEvY",
        "outputId": "27122eb0-086c-4758-c25c-c9abb4e1ef7d"
      },
      "execution_count": null,
      "outputs": [
        {
          "output_type": "execute_result",
          "data": {
            "text/plain": [
              "(<_PrefetchDataset element_spec=({'input_ids': TensorSpec(shape=(None, 256), dtype=tf.int64, name=None), 'attention_mask': TensorSpec(shape=(None, 256), dtype=tf.int64, name=None)}, TensorSpec(shape=(None,), dtype=tf.int64, name=None))>,\n",
              " <_PrefetchDataset element_spec=({'input_ids': TensorSpec(shape=(None, 256), dtype=tf.int64, name=None), 'attention_mask': TensorSpec(shape=(None, 256), dtype=tf.int64, name=None)}, TensorSpec(shape=(None,), dtype=tf.int64, name=None))>,\n",
              " <_PrefetchDataset element_spec=({'input_ids': TensorSpec(shape=(None, 256), dtype=tf.int64, name=None), 'attention_mask': TensorSpec(shape=(None, 256), dtype=tf.int64, name=None)}, TensorSpec(shape=(None,), dtype=tf.int64, name=None))>)"
            ]
          },
          "metadata": {},
          "execution_count": 6
        }
      ]
    },
    {
      "cell_type": "markdown",
      "source": [
        "# Load TF DistilBERT, compile and train"
      ],
      "metadata": {
        "id": "P-XHwjK64TW_"
      }
    },
    {
      "cell_type": "code",
      "source": [
        "# Step 8 — Load TF DistilBERT, compile, and train\n",
        "\n",
        "import tensorflow as tf\n",
        "from transformers import TFAutoModelForSequenceClassification, create_optimizer\n",
        "import math\n",
        "\n",
        "MODEL_NAME = \"distilbert-base-uncased\"\n",
        "EPOCHS = 3\n",
        "LR = 5e-5\n",
        "\n",
        "# (Optional) Cast to int32 for TF ops (safer on some runtimes)\n",
        "def cast_batch(features, labels):\n",
        "    return (\n",
        "        {\n",
        "            \"input_ids\": tf.cast(features[\"input_ids\"], tf.int32),\n",
        "            \"attention_mask\": tf.cast(features[\"attention_mask\"], tf.int32),\n",
        "        },\n",
        "        tf.cast(labels, tf.int32),\n",
        "    )\n",
        "\n",
        "tf_train_cast = tf_train.map(cast_batch)\n",
        "tf_val_cast   = tf_val.map(cast_batch)\n",
        "tf_test_cast  = tf_test.map(cast_batch)\n",
        "\n",
        "# Load model (2-class classification)\n",
        "num_labels = 2\n",
        "model = TFAutoModelForSequenceClassification.from_pretrained(MODEL_NAME, num_labels=num_labels)\n",
        "\n",
        "# Optimizer with linear schedule\n",
        "train_size = len(tokenized[\"train\"])   # <-- simple and robust\n",
        "steps_per_epoch = math.ceil(train_size / BATCH_SIZE)\n",
        "num_train_steps = steps_per_epoch * EPOCHS\n",
        "\n",
        "optimizer, schedule = create_optimizer(\n",
        "    init_lr=LR,\n",
        "    num_train_steps=num_train_steps,\n",
        "    num_warmup_steps=0,\n",
        ")\n",
        "\n",
        "model.compile(\n",
        "    optimizer=optimizer,\n",
        "    loss=tf.keras.losses.SparseCategoricalCrossentropy(from_logits=True),\n",
        "    metrics=[\"accuracy\"],\n",
        ")\n",
        "\n",
        "# Callbacks (early stopping on val_accuracy)\n",
        "callbacks = [\n",
        "    tf.keras.callbacks.EarlyStopping(\n",
        "        monitor=\"val_accuracy\",\n",
        "        mode=\"max\",\n",
        "        patience=2,\n",
        "        restore_best_weights=True,\n",
        "    )\n",
        "]\n",
        "\n",
        "history = model.fit(\n",
        "    tf_train_cast,\n",
        "    validation_data=tf_val_cast,\n",
        "    epochs=EPOCHS,\n",
        "    callbacks=callbacks,\n",
        ")\n"
      ],
      "metadata": {
        "colab": {
          "base_uri": "https://localhost:8080/"
        },
        "id": "xD2HKTkr4WUS",
        "outputId": "922b45e9-21e6-453f-bb3a-1ed00cdc1055"
      },
      "execution_count": null,
      "outputs": [
        {
          "output_type": "stream",
          "name": "stderr",
          "text": [
            "Some weights of the PyTorch model were not used when initializing the TF 2.0 model TFDistilBertForSequenceClassification: ['vocab_layer_norm.weight', 'vocab_transform.weight', 'vocab_layer_norm.bias', 'vocab_transform.bias', 'vocab_projector.bias']\n",
            "- This IS expected if you are initializing TFDistilBertForSequenceClassification from a PyTorch model trained on another task or with another architecture (e.g. initializing a TFBertForSequenceClassification model from a BertForPreTraining model).\n",
            "- This IS NOT expected if you are initializing TFDistilBertForSequenceClassification from a PyTorch model that you expect to be exactly identical (e.g. initializing a TFBertForSequenceClassification model from a BertForSequenceClassification model).\n",
            "Some weights or buffers of the TF 2.0 model TFDistilBertForSequenceClassification were not initialized from the PyTorch model and are newly initialized: ['pre_classifier.weight', 'pre_classifier.bias', 'classifier.weight', 'classifier.bias']\n",
            "You should probably TRAIN this model on a down-stream task to be able to use it for predictions and inference.\n"
          ]
        },
        {
          "output_type": "stream",
          "name": "stdout",
          "text": [
            "Epoch 1/3\n",
            "400/400 [==============================] - 207s 448ms/step - loss: 0.3411 - accuracy: 0.8491 - val_loss: 0.2838 - val_accuracy: 0.8900\n",
            "Epoch 2/3\n",
            "400/400 [==============================] - 178s 446ms/step - loss: 0.1316 - accuracy: 0.9538 - val_loss: 0.3375 - val_accuracy: 0.8888\n",
            "Epoch 3/3\n",
            "400/400 [==============================] - 178s 446ms/step - loss: 0.0450 - accuracy: 0.9880 - val_loss: 0.3552 - val_accuracy: 0.9013\n"
          ]
        }
      ]
    },
    {
      "cell_type": "markdown",
      "source": [
        "# Evaluate on test set & save the model"
      ],
      "metadata": {
        "id": "PVEGgCMN9oq3"
      }
    },
    {
      "cell_type": "code",
      "source": [
        "# Step 9 — Evaluate on test set (accuracy, precision, recall, F1) and save artifacts\n",
        "\n",
        "import numpy as np\n",
        "from sklearn.metrics import accuracy_score, precision_recall_fscore_support, confusion_matrix, classification_report\n",
        "from transformers import AutoTokenizer\n",
        "import tensorflow as tf\n",
        "from pathlib import Path\n",
        "\n",
        "# 1) Run predictions on the test set\n",
        "y_true = []\n",
        "for _, labels in tf_test_cast:\n",
        "    y_true.append(labels.numpy())\n",
        "y_true = np.concatenate(y_true)\n",
        "\n",
        "logits = model.predict(tf_test_cast).logits\n",
        "y_pred = logits.argmax(axis=-1)\n",
        "\n",
        "# 2) Compute metrics\n",
        "acc = accuracy_score(y_true, y_pred)\n",
        "prec, rec, f1, _ = precision_recall_fscore_support(y_true, y_pred, average=\"binary\", zero_division=0)\n",
        "print({\n",
        "    \"test_accuracy\": round(acc, 4),\n",
        "    \"test_precision\": round(prec, 4),\n",
        "    \"test_recall\": round(rec, 4),\n",
        "    \"test_f1\": round(f1, 4),\n",
        "})\n",
        "\n",
        "# Optional: show confusion matrix and a short report\n",
        "print(\"\\nConfusion matrix:\\n\", confusion_matrix(y_true, y_pred))\n",
        "print(\"\\nClassification report:\\n\", classification_report(y_true, y_pred, digits=4))\n",
        "\n",
        "# 3) Save model + tokenizer (choose one or both destinations)\n",
        "\n",
        "# (A) Save to Google Drive (persistent across sessions)\n",
        "SAVE_DIR = \"/content/drive/MyDrive/isy_nlp_models_tf/distilbert/global\"\n",
        "Path(SAVE_DIR).mkdir(parents=True, exist_ok=True)\n",
        "model.save_pretrained(SAVE_DIR)\n",
        "tokenizer.save_pretrained(SAVE_DIR)\n",
        "print(\"Saved to Drive:\", SAVE_DIR)\n",
        "\n",
        "# (B) Save inside the project structure (ephemeral in Colab unless you zip/copy out)\n",
        "LOCAL_SAVE = \"/content/isy_nlp_project/models/distilbert/global_tf\"\n",
        "Path(LOCAL_SAVE).mkdir(parents=True, exist_ok=True)\n",
        "model.save_pretrained(LOCAL_SAVE)\n",
        "tokenizer.save_pretrained(LOCAL_SAVE)\n",
        "print(\"Saved to project:\", LOCAL_SAVE)\n"
      ],
      "metadata": {
        "colab": {
          "base_uri": "https://localhost:8080/"
        },
        "id": "OGfx0xE59qRB",
        "outputId": "1e412727-7485-41c8-93c7-6456a28d18c0"
      },
      "execution_count": null,
      "outputs": [
        {
          "output_type": "stream",
          "name": "stdout",
          "text": [
            "50/50 [==============================] - 11s 133ms/step\n",
            "{'test_accuracy': 0.8975, 'test_precision': 0.9162, 'test_recall': 0.875, 'test_f1': 0.8951}\n",
            "\n",
            "Confusion matrix:\n",
            " [[368  32]\n",
            " [ 50 350]]\n",
            "\n",
            "Classification report:\n",
            "               precision    recall  f1-score   support\n",
            "\n",
            "           0     0.8804    0.9200    0.8998       400\n",
            "           1     0.9162    0.8750    0.8951       400\n",
            "\n",
            "    accuracy                         0.8975       800\n",
            "   macro avg     0.8983    0.8975    0.8974       800\n",
            "weighted avg     0.8983    0.8975    0.8974       800\n",
            "\n",
            "Saved to Drive: /content/drive/MyDrive/isy_nlp_models_tf/distilbert/global\n",
            "Saved to project: /content/isy_nlp_project/models/distilbert/global_tf\n"
          ]
        }
      ]
    },
    {
      "cell_type": "markdown",
      "source": [
        "# save to colab Notebooks"
      ],
      "metadata": {
        "id": "QZGN8ZLfAsIl"
      }
    },
    {
      "cell_type": "code",
      "source": [
        "from google.colab import drive\n",
        "drive.mount('/content/drive')"
      ],
      "metadata": {
        "colab": {
          "base_uri": "https://localhost:8080/"
        },
        "id": "Cz0eJAfLZuHU",
        "outputId": "71cb58ec-1e3f-4864-c561-092825e12323"
      },
      "execution_count": 1,
      "outputs": [
        {
          "output_type": "stream",
          "name": "stdout",
          "text": [
            "Mounted at /content/drive\n"
          ]
        }
      ]
    }
  ]
}